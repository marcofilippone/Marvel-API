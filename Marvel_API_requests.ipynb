{
 "cells": [
  {
   "cell_type": "markdown",
   "id": "f4061244",
   "metadata": {},
   "source": [
    "# Assignment 1\n",
    "\n",
    "<div class=\"alert alert-success\">This notebook provides a step by step guide to execute the code for Assignment 1 of cloud computing, which has two part.</div>\n",
    "\n",
    "## <U>PART 1:</U>\n",
    "\n",
    "### Setup : Readying environment\n",
    "The first step is to import all the needed libraries that will be used throughout the notebook:"
   ]
  },
  {
   "cell_type": "code",
   "execution_count": null,
   "id": "a511786c-0525-4c84-8bd6-5286f8d33b02",
   "metadata": {},
   "outputs": [],
   "source": [
    "import hashlib\n",
    "import time\n",
    "import requests\n",
    "import pandas as pd"
   ]
  },
  {
   "cell_type": "markdown",
   "id": "11e4f98a",
   "metadata": {},
   "source": [
    "### Setup: Access to Marvel's API\n",
    "\n",
    "The below step connects to marvel's API (https://developer.marvel.com/) which requires the following:\n",
    "\n",
    "<ul>\n",
    "  <li>Public key</li>\n",
    "  <li>Private key</li>\n",
    "  <li>Timestamp</li>\n",
    "  <li>An md5 hash</li>\n",
    "</ul>"
   ]
  },
  {
   "cell_type": "code",
   "execution_count": null,
   "id": "bf09904d",
   "metadata": {},
   "outputs": [],
   "source": [
    "public_key = '46180a82e99e236b44c9ebb179e70221'\n",
    "private_key = 'Insert your private key'\n",
    "timestamp_str = str(time.time())\n",
    "hash_1 = timestamp_str+private_key+public_key\n",
    "hash_2 = hashlib.md5(hash_1.encode())\n",
    "hashkey = hash_2.hexdigest()"
   ]
  },
  {
   "cell_type": "markdown",
   "id": "4e004257",
   "metadata": {},
   "source": [
    "### Step 1: Generate a list of 30 characters\n",
    "\n",
    "The below code sends a request to Marvel's API to generate a list of 30 characters. To make this request the url with the 'characters' endpoint is used. The required parameters setup above are inserted below to gain authorization."
   ]
  },
  {
   "cell_type": "code",
   "execution_count": null,
   "id": "432566e3-2ea7-4cea-8139-2319d41fbb2d",
   "metadata": {
    "scrolled": false
   },
   "outputs": [],
   "source": [
    "urlCharacters = 'http://gateway.marvel.com/v1/public/characters'\n",
    "params = {'apikey': public_key,\n",
    "         'ts': timestamp_str,\n",
    "         'hash': hashkey,\n",
    "         'limit': 30}\n",
    "response = requests.get(urlCharacters, params)\n",
    "response = response.json()\n",
    "\n",
    "name_list = []\n",
    "for obj in response['data']['results']:\n",
    "    name_list.append(obj['name'])\n",
    "\n",
    "print(name_list)"
   ]
  },
  {
   "cell_type": "markdown",
   "id": "8a929a24",
   "metadata": {},
   "source": [
    "### Step 2: Retrieve IDs\n",
    "\n",
    "The below code takes the above generated list of 30 characters and retrieves their IDs, and it saves it in the variable ```id_list``` as a string"
   ]
  },
  {
   "cell_type": "code",
   "execution_count": null,
   "id": "d6008bd7-b030-4eba-a174-abdae234cba6",
   "metadata": {},
   "outputs": [],
   "source": [
    "id_list = []\n",
    "for obj in response['data']['results']:\n",
    "    id_list.append(str(obj['id']))\n",
    "\n",
    "print(id_list)"
   ]
  },
  {
   "cell_type": "markdown",
   "id": "b96cbc12",
   "metadata": {},
   "source": [
    "### Step 3: Retrieve Total Events\n",
    "\n",
    "The total number of events available for all the 30 characters is generated below and saved in the variable ```totEvents``` as an integer."
   ]
  },
  {
   "cell_type": "code",
   "execution_count": null,
   "id": "55f4f46c-cc02-489e-89ce-74f5ad513f99",
   "metadata": {},
   "outputs": [],
   "source": [
    "totEvents = {}\n",
    "for obj in response['data']['results']:\n",
    "    totEvents[str(obj['id'])] = obj['events']['available']\n",
    "    \n",
    "print(totEvents)"
   ]
  },
  {
   "cell_type": "markdown",
   "id": "b606e3ec",
   "metadata": {},
   "source": [
    "### Step 4: Retrieve Total Series\n",
    "\n",
    "The total number of series available for all 30 characters is generated and saved in the variable ```totSeries``` as an integer."
   ]
  },
  {
   "cell_type": "code",
   "execution_count": null,
   "id": "531ce801",
   "metadata": {},
   "outputs": [],
   "source": [
    "totSeries = {}\n",
    "for obj in response['data']['results']:\n",
    "    totSeries[str(obj['id'])] = obj['series']['available']\n",
    "    \n",
    "print(totSeries)"
   ]
  },
  {
   "cell_type": "markdown",
   "id": "484c98bf",
   "metadata": {},
   "source": [
    "### Step 5: Retrieve Total Comics\n",
    "\n",
    "The total number of comics available for all 30 characters is generated and saved in ```totComics``` as an integer."
   ]
  },
  {
   "cell_type": "code",
   "execution_count": null,
   "id": "1149bcd5",
   "metadata": {},
   "outputs": [],
   "source": [
    "totComics = {}\n",
    "for obj in response['data']['results']:\n",
    "    totComics[str(obj['id'])] = obj['comics']['available']\n",
    "    \n",
    "print(totComics)"
   ]
  },
  {
   "cell_type": "markdown",
   "id": "9f9da2cc",
   "metadata": {},
   "source": [
    "### Step 6: Retrieve the Price of the Most Expensive Comic\n",
    "\n",
    "Retrieve the most expensive comic for each of the 30 characters in the list and its respective price. This is saved in ```maxPricePerCharacter``` in float form and USD."
   ]
  },
  {
   "cell_type": "code",
   "execution_count": null,
   "id": "7825e9f6",
   "metadata": {},
   "outputs": [],
   "source": [
    "maxPricePerCharacter = {}\n",
    "\n",
    "for obj in response['data']['results']:\n",
    "    resp_comics = requests.get(obj['comics']['collectionURI'], params={'apikey': public_key,\n",
    "                                                                       'ts': timestamp_str,\n",
    "                                                                       'hash': hashkey,\n",
    "                                                                       'characterId': obj['id']})\n",
    "    resp_comics = resp_comics.json()\n",
    "    max_price = 0\n",
    "    for comic in resp_comics['data']['results']:\n",
    "        if comic['prices'][0]['price'] > max_price:\n",
    "            max_price = comic['prices'][0]['price']\n",
    "    if max_price == 0:\n",
    "        maxPricePerCharacter[obj['name']] = None\n",
    "    else:\n",
    "        maxPricePerCharacter[obj['name']] = float(max_price)\n",
    "\n",
    "print(maxPricePerCharacter)"
   ]
  },
  {
   "cell_type": "markdown",
   "id": "fa00211a",
   "metadata": {},
   "source": [
    "### Step 7: Store the Data in a pandas DataFrame\n",
    "The data generated is stored in a pandas DataFrame ```df``` with the following columns: \n",
    "<ul>\n",
    "  <li>Character Name</li>\n",
    "  <li>Character ID</li>\n",
    "  <li>Total Available Events</li>\n",
    "  <li>Total Available Series</li>\n",
    "  <li>Total Available Comics</li>\n",
    "  <li>Price of the Most Expensive Comic</li>\n",
    "</ul>\n",
    "\n",
    "In case a Character is not featured in any Events, Series, or Comics the entry will be filled with \"None\"\n",
    "In case a Character does not have a price the entry will be filled with \"None\""
   ]
  },
  {
   "cell_type": "code",
   "execution_count": null,
   "id": "efc6bd20",
   "metadata": {},
   "outputs": [],
   "source": [
    "def replace_zeros(df, column_name):\n",
    "    df[column_name].replace(to_replace = 0, value = None, inplace = True)\n",
    "\n",
    "df = pd.DataFrame(columns = ['Character Name', 'Character ID', 'Total Available Events', 'Total Available Series', 'Total Available Comics', 'Price of the Most Expensive Comic'])\n",
    "i = 0\n",
    "while i < 30:\n",
    "    entry = {'Character Name': name_list[i],\n",
    "             'Character ID': id_list[i],\n",
    "             'Total Available Events': totEvents[id_list[i]],\n",
    "             'Total Available Series': totSeries[id_list[i]],\n",
    "             'Total Available Comics': totComics[id_list[i]],\n",
    "             'Price of the Most Expensive Comic': maxPricePerCharacter[name_list[i]]}\n",
    "    df = df.append(entry, ignore_index = True)\n",
    "    i += 1\n",
    "    \n",
    "replace_zeros(df, 'Total Available Events'), replace_zeros(df, 'Total Available Series'), replace_zeros(df, 'Total Available Comics')\n",
    "\n",
    "df"
   ]
  },
  {
   "cell_type": "markdown",
   "id": "722388f3",
   "metadata": {},
   "source": [
    "### Step 8: Save the DataFrame to a CSV\n",
    "\n",
    "The ```df``` file is saved as a CSV titled ```data.csv```"
   ]
  },
  {
   "cell_type": "code",
   "execution_count": null,
   "id": "73b19e37",
   "metadata": {},
   "outputs": [],
   "source": [
    "df.to_csv(\"data.csv\", index = False)"
   ]
  },
  {
   "cell_type": "markdown",
   "id": "681c51e3",
   "metadata": {},
   "source": [
    "## <u> PART II: </u>\n",
    "\n",
    "The second part creates an API that allows the user to interact with the DataFrame generated in the earlier step.\n",
    "\n",
    "<b>Users will be able to do the following:</b>\n",
    "<ul>\n",
    "  <li>Retrieve the whole DataFrame in JSON format</li>\n",
    "  <li>Retrieve a single entry or a list of entries using a Character Name or Character ID</li>\n",
    "  <li>Add a new character to the DataFrame by specifying: Character Name, Character ID, Available Events, Available Series, Available Comics, Price of Comics</li>\n",
    "  <li>Add a new character to the DataFrame by specifying only the Character ID, the API will extract the remaining data from Marvel's API and append it to the DataFrame.</li>\n",
    "  <li>Delete a character or a list of characters by providing the Character ID or Character Name</li>\n",
    "</ul>\n",
    "\n",
    "<b>Users will not be able to do the following:</b>\n",
    "<ul>\n",
    "  <li>Add a new character with a pre-existing Character ID</li>\n",
    "  <li>Delete a character that does not exist in the DataFrame</li>\n",
    "  <li>Add a new character using Character ID that does not exist in Marvel's API</li>\n",
    "</ul>\n",
    "\n",
    "In order to add and delete characters authentication is required: users need to input an e-mail and a password, this authorization is limited to 1 hour.\n",
    "\n",
    "Note: For some Mac OS versions, requests to http://localhost:5000/ will produce a 403 error. Try directing your requests to http://127.0.0.1:5000/ instead."
   ]
  },
  {
   "cell_type": "markdown",
   "id": "aaaabc70",
   "metadata": {},
   "source": [
    "### Retrieve a single entry using Character ID"
   ]
  },
  {
   "cell_type": "code",
   "execution_count": null,
   "id": "4838340e",
   "metadata": {
    "scrolled": true
   },
   "outputs": [],
   "source": [
    "resp = requests.get('http://localhost:5000/characters', params={'characterID': 1009148})\n",
    "resp.json()"
   ]
  },
  {
   "cell_type": "markdown",
   "id": "3cdb1584",
   "metadata": {},
   "source": [
    "### Retrieve multiple entries using Character ID"
   ]
  },
  {
   "cell_type": "code",
   "execution_count": null,
   "id": "68c19ff0",
   "metadata": {},
   "outputs": [],
   "source": [
    "resp = requests.get('http://localhost:5000/characters', params={'characterID': [1009148, 1011031]})\n",
    "resp.json()"
   ]
  },
  {
   "cell_type": "markdown",
   "id": "f3c0bb2d",
   "metadata": {},
   "source": [
    "### Attempt to add character without Authorization"
   ]
  },
  {
   "cell_type": "code",
   "execution_count": null,
   "id": "6b69c053",
   "metadata": {},
   "outputs": [],
   "source": [
    "resp = requests.post('http://localhost:5000/characters', params={'characterID': 1017100,\n",
    "                                                                'characterName': 'Marco',\n",
    "                                                                'events': 4,\n",
    "                                                                'series': 5,\n",
    "                                                                'comics': 10,\n",
    "                                                                'price': 0.0})\n",
    "resp.json()"
   ]
  },
  {
   "cell_type": "markdown",
   "id": "a2983a78",
   "metadata": {},
   "source": [
    "### Create Authorization\n",
    "\n",
    "#### Signup Process\n",
    "\n",
    "The below authorization process requires using the url endpoint 'signup', an e-mail, and a password.\n",
    "Users will use this to \"sign up\" to use the API"
   ]
  },
  {
   "cell_type": "code",
   "execution_count": null,
   "id": "d4b95dba",
   "metadata": {},
   "outputs": [],
   "source": [
    "resp = requests.post('http://localhost:5000/signup', params={'email': 'safia@gmail.com',\n",
    "                                                             'password': '1111'})\n",
    "resp.json()"
   ]
  },
  {
   "cell_type": "markdown",
   "id": "356e97e8",
   "metadata": {},
   "source": [
    "#### Login Process"
   ]
  },
  {
   "cell_type": "code",
   "execution_count": null,
   "id": "7b031277",
   "metadata": {},
   "outputs": [],
   "source": [
    "resp = requests.get('http://localhost:5000/login', params={'email': 'safia@gmail.com',\n",
    "                                                             'password': '1111'})\n",
    "resp.json()"
   ]
  },
  {
   "cell_type": "markdown",
   "id": "ff01dd5d",
   "metadata": {},
   "source": [
    "Upon successfuly signing up, a token is generated. Please copy the token and paste it in the below ```token``` variable"
   ]
  },
  {
   "cell_type": "code",
   "execution_count": null,
   "id": "68d35369",
   "metadata": {},
   "outputs": [],
   "source": [
    "token = resp.json()['token']\n",
    "token"
   ]
  },
  {
   "cell_type": "markdown",
   "id": "b5792f7e",
   "metadata": {},
   "source": [
    "### Delete Character with Authorization [Incorrect Character ID]"
   ]
  },
  {
   "cell_type": "code",
   "execution_count": null,
   "id": "95873ea2",
   "metadata": {},
   "outputs": [],
   "source": [
    "resp = requests.delete('http://localhost:5000/characters', params={'characterID': 101710000}, headers={'Authorization': f'Bearer {token}'})\n",
    "resp.json()"
   ]
  },
  {
   "cell_type": "markdown",
   "id": "7777cc57",
   "metadata": {},
   "source": [
    "### Delete character with Authorization"
   ]
  },
  {
   "cell_type": "code",
   "execution_count": null,
   "id": "df917e63",
   "metadata": {},
   "outputs": [],
   "source": [
    "resp = requests.delete('http://localhost:5000/characters', params={'characterID': 1011334}, headers={'Authorization': f'Bearer {token}'})\n",
    "resp.json()"
   ]
  },
  {
   "cell_type": "markdown",
   "id": "c4ba1fbb",
   "metadata": {},
   "source": [
    "# Bonus Question\n",
    "\n",
    "The code below enables users to modify the Price of the Most Expensive Comic by providing either the Character ID or the Character Name. The API accept new prices in different currencies, including USD, EUR, GBP and CAD and transforms them to the right values to the exchange rate of the considered date and time. \n",
    "\n",
    "forex_python is used as it is a free foreign exhange rates and currency converter"
   ]
  },
  {
   "cell_type": "code",
   "execution_count": null,
   "id": "ed47d268",
   "metadata": {},
   "outputs": [],
   "source": [
    "pip install forex_python "
   ]
  },
  {
   "cell_type": "code",
   "execution_count": null,
   "id": "950af41e",
   "metadata": {},
   "outputs": [],
   "source": [
    "from forex_python.converter import CurrencyRates"
   ]
  },
  {
   "cell_type": "markdown",
   "id": "4efc9734",
   "metadata": {},
   "source": [
    "The price of the most expensive comic can be modified by providing either the \"characterName\" or \"characterID\", the desired new \"price\" and the \"currency\" of the provided price. The result is always in USD. If no \"currency\" parameter is provided, it assumes the price to be in USD."
   ]
  },
  {
   "cell_type": "code",
   "execution_count": null,
   "id": "94735bec",
   "metadata": {},
   "outputs": [],
   "source": [
    "requests.put('http://localhost:5000/characters', params={'characterID': 1016823, 'price':60, 'currency':'CAD'}).json()"
   ]
  }
 ],
 "metadata": {
  "kernelspec": {
   "display_name": "Python 3 (ipykernel)",
   "language": "python",
   "name": "python3"
  },
  "language_info": {
   "codemirror_mode": {
    "name": "ipython",
    "version": 3
   },
   "file_extension": ".py",
   "mimetype": "text/x-python",
   "name": "python",
   "nbconvert_exporter": "python",
   "pygments_lexer": "ipython3",
   "version": "3.9.12"
  }
 },
 "nbformat": 4,
 "nbformat_minor": 5
}
